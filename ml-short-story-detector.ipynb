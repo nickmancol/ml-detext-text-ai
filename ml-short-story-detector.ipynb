{
 "cells": [
  {
   "cell_type": "markdown",
   "id": "5d799bcb",
   "metadata": {},
   "source": [
    "# ML classificator for AI's generated text"
   ]
  },
  {
   "cell_type": "code",
   "execution_count": 1,
   "id": "75ef894f",
   "metadata": {},
   "outputs": [],
   "source": [
    "from sklearn.feature_extraction.text import TfidfTransformer\n",
    "from sklearn.feature_extraction.text import CountVectorizer\n",
    "from sklearn.model_selection import train_test_split\n",
    "from sklearn.linear_model import LogisticRegression\n",
    "from sklearn.metrics import accuracy_score\n",
    "from sklearn.pipeline import Pipeline\n",
    "from sklearn.utils import shuffle\n",
    "from nltk.corpus import stopwords\n",
    "import matplotlib.pyplot as plt\n",
    "from sklearn import metrics\n",
    "import nest_asyncio\n",
    "import pandas as pd\n",
    "import numpy as np\n",
    "import itertools\n",
    "import aiohttp\n",
    "import asyncio\n",
    "import os.path\n",
    "import string\n",
    "import nltk\n",
    "\n",
    "#fixes some asyncio-tornado issues with jupyter\n",
    "nest_asyncio.apply()"
   ]
  },
  {
   "cell_type": "code",
   "execution_count": 2,
   "id": "90cb8a8c",
   "metadata": {},
   "outputs": [],
   "source": [
    "path = './data/bot_stories.csv'\n",
    "\n",
    "async def get_bot_stories():\n",
    "    async with aiohttp.ClientSession() as session:\n",
    "        for number in range(1, 1000):\n",
    "            story_url = \"https://boredhumans.com/api_story.php\"\n",
    "            async with session.post(story_url) as resp:\n",
    "                story = await resp.text()\n",
    "                bot_st_file.write(str(number))\n",
    "                bot_st_file.write('|')\n",
    "                bot_st_file.write(story.replace('\\n',''))\n",
    "                bot_st_file.write('\\n')\n",
    "\n",
    "if(os.path.isfile(path) == False):\n",
    "    bot_st_file = open(path,'a')\n",
    "    loop = asyncio.get_event_loop()\n",
    "    loop.run_until_complete(get_bot_stories())"
   ]
  },
  {
   "cell_type": "code",
   "execution_count": 3,
   "id": "efde90fd",
   "metadata": {},
   "outputs": [
    {
     "data": {
      "text/html": [
       "<div>\n",
       "<style scoped>\n",
       "    .dataframe tbody tr th:only-of-type {\n",
       "        vertical-align: middle;\n",
       "    }\n",
       "\n",
       "    .dataframe tbody tr th {\n",
       "        vertical-align: top;\n",
       "    }\n",
       "\n",
       "    .dataframe thead th {\n",
       "        text-align: right;\n",
       "    }\n",
       "</style>\n",
       "<table border=\"1\" class=\"dataframe\">\n",
       "  <thead>\n",
       "    <tr style=\"text-align: right;\">\n",
       "      <th></th>\n",
       "      <th>bookno</th>\n",
       "      <th>content</th>\n",
       "      <th>human</th>\n",
       "    </tr>\n",
       "  </thead>\n",
       "  <tbody>\n",
       "    <tr>\n",
       "      <th>0</th>\n",
       "      <td>1</td>\n",
       "      <td>I'm not in the business of trying to explain w...</td>\n",
       "      <td>False</td>\n",
       "    </tr>\n",
       "    <tr>\n",
       "      <th>1</th>\n",
       "      <td>2</td>\n",
       "      <td>Just a friend, a friend. I was about to leave ...</td>\n",
       "      <td>False</td>\n",
       "    </tr>\n",
       "    <tr>\n",
       "      <th>2</th>\n",
       "      <td>1</td>\n",
       "      <td>i was sitting in my parents' little house at t...</td>\n",
       "      <td>False</td>\n",
       "    </tr>\n",
       "    <tr>\n",
       "      <th>3</th>\n",
       "      <td>2</td>\n",
       "      <td>I was very nervous that I would be killed, bec...</td>\n",
       "      <td>False</td>\n",
       "    </tr>\n",
       "    <tr>\n",
       "      <th>4</th>\n",
       "      <td>3</td>\n",
       "      <td>I don't know anybody who had to put in the wor...</td>\n",
       "      <td>False</td>\n",
       "    </tr>\n",
       "  </tbody>\n",
       "</table>\n",
       "</div>"
      ],
      "text/plain": [
       "   bookno                                            content  human\n",
       "0       1  I'm not in the business of trying to explain w...  False\n",
       "1       2  Just a friend, a friend. I was about to leave ...  False\n",
       "2       1  i was sitting in my parents' little house at t...  False\n",
       "3       2  I was very nervous that I would be killed, bec...  False\n",
       "4       3  I don't know anybody who had to put in the wor...  False"
      ]
     },
     "execution_count": 3,
     "metadata": {},
     "output_type": "execute_result"
    }
   ],
   "source": [
    "df_bot = pd.read_csv('./data/bot_stories.csv', header=None, sep='|', names=['bookno','content'])\n",
    "df_bot.drop_duplicates(inplace=True)\n",
    "df_bot['human'] = False\n",
    "df_bot.head()"
   ]
  },
  {
   "cell_type": "code",
   "execution_count": 4,
   "id": "0de22530",
   "metadata": {},
   "outputs": [
    {
     "data": {
      "text/html": [
       "<div>\n",
       "<style scoped>\n",
       "    .dataframe tbody tr th:only-of-type {\n",
       "        vertical-align: middle;\n",
       "    }\n",
       "\n",
       "    .dataframe tbody tr th {\n",
       "        vertical-align: top;\n",
       "    }\n",
       "\n",
       "    .dataframe thead th {\n",
       "        text-align: right;\n",
       "    }\n",
       "</style>\n",
       "<table border=\"1\" class=\"dataframe\">\n",
       "  <thead>\n",
       "    <tr style=\"text-align: right;\">\n",
       "      <th></th>\n",
       "      <th>bookno</th>\n",
       "      <th>content</th>\n",
       "      <th>human</th>\n",
       "    </tr>\n",
       "  </thead>\n",
       "  <tbody>\n",
       "    <tr>\n",
       "      <th>0</th>\n",
       "      <td>51082.txt</td>\n",
       "      <td>*** START OF THIS PROJECT GUTENBERG EBOOK COMI...</td>\n",
       "      <td>True</td>\n",
       "    </tr>\n",
       "    <tr>\n",
       "      <th>1</th>\n",
       "      <td>32243.txt</td>\n",
       "      <td>*** START OF THIS PROJECT GUTENBERG EBOOK CONF...</td>\n",
       "      <td>True</td>\n",
       "    </tr>\n",
       "    <tr>\n",
       "      <th>2</th>\n",
       "      <td>306-0.txt</td>\n",
       "      <td>*** START OF THIS PROJECT GUTENBERG EBOOK EARL...</td>\n",
       "      <td>True</td>\n",
       "    </tr>\n",
       "    <tr>\n",
       "      <th>3</th>\n",
       "      <td>31038.txt</td>\n",
       "      <td>*** START OF THIS PROJECT GUTENBERG EBOOK THE ...</td>\n",
       "      <td>True</td>\n",
       "    </tr>\n",
       "    <tr>\n",
       "      <th>4</th>\n",
       "      <td>28636-8.txt</td>\n",
       "      <td>*** START OF THIS PROJECT GUTENBERG EBOOK THE ...</td>\n",
       "      <td>True</td>\n",
       "    </tr>\n",
       "  </tbody>\n",
       "</table>\n",
       "</div>"
      ],
      "text/plain": [
       "        bookno                                            content  human\n",
       "0    51082.txt  *** START OF THIS PROJECT GUTENBERG EBOOK COMI...   True\n",
       "1    32243.txt  *** START OF THIS PROJECT GUTENBERG EBOOK CONF...   True\n",
       "2    306-0.txt  *** START OF THIS PROJECT GUTENBERG EBOOK EARL...   True\n",
       "3    31038.txt  *** START OF THIS PROJECT GUTENBERG EBOOK THE ...   True\n",
       "4  28636-8.txt  *** START OF THIS PROJECT GUTENBERG EBOOK THE ...   True"
      ]
     },
     "execution_count": 4,
     "metadata": {},
     "output_type": "execute_result"
    }
   ],
   "source": [
    "df_human = pd.read_csv('./data/stories.csv')\n",
    "df_human['human'] = True\n",
    "df_human.head()"
   ]
  },
  {
   "cell_type": "code",
   "execution_count": 5,
   "id": "6def75fa",
   "metadata": {},
   "outputs": [
    {
     "data": {
      "text/html": [
       "<div>\n",
       "<style scoped>\n",
       "    .dataframe tbody tr th:only-of-type {\n",
       "        vertical-align: middle;\n",
       "    }\n",
       "\n",
       "    .dataframe tbody tr th {\n",
       "        vertical-align: top;\n",
       "    }\n",
       "\n",
       "    .dataframe thead th {\n",
       "        text-align: right;\n",
       "    }\n",
       "</style>\n",
       "<table border=\"1\" class=\"dataframe\">\n",
       "  <thead>\n",
       "    <tr style=\"text-align: right;\">\n",
       "      <th></th>\n",
       "      <th>bookno</th>\n",
       "      <th>content</th>\n",
       "      <th>human</th>\n",
       "    </tr>\n",
       "  </thead>\n",
       "  <tbody>\n",
       "    <tr>\n",
       "      <th>0</th>\n",
       "      <td>51082.txt</td>\n",
       "      <td>*** START OF THIS PROJECT GUTENBERG EBOOK COMI...</td>\n",
       "      <td>True</td>\n",
       "    </tr>\n",
       "    <tr>\n",
       "      <th>1</th>\n",
       "      <td>32243.txt</td>\n",
       "      <td>*** START OF THIS PROJECT GUTENBERG EBOOK CONF...</td>\n",
       "      <td>True</td>\n",
       "    </tr>\n",
       "    <tr>\n",
       "      <th>2</th>\n",
       "      <td>306-0.txt</td>\n",
       "      <td>*** START OF THIS PROJECT GUTENBERG EBOOK EARL...</td>\n",
       "      <td>True</td>\n",
       "    </tr>\n",
       "    <tr>\n",
       "      <th>3</th>\n",
       "      <td>31038.txt</td>\n",
       "      <td>*** START OF THIS PROJECT GUTENBERG EBOOK THE ...</td>\n",
       "      <td>True</td>\n",
       "    </tr>\n",
       "    <tr>\n",
       "      <th>4</th>\n",
       "      <td>28636-8.txt</td>\n",
       "      <td>*** START OF THIS PROJECT GUTENBERG EBOOK THE ...</td>\n",
       "      <td>True</td>\n",
       "    </tr>\n",
       "  </tbody>\n",
       "</table>\n",
       "</div>"
      ],
      "text/plain": [
       "        bookno                                            content  human\n",
       "0    51082.txt  *** START OF THIS PROJECT GUTENBERG EBOOK COMI...   True\n",
       "1    32243.txt  *** START OF THIS PROJECT GUTENBERG EBOOK CONF...   True\n",
       "2    306-0.txt  *** START OF THIS PROJECT GUTENBERG EBOOK EARL...   True\n",
       "3    31038.txt  *** START OF THIS PROJECT GUTENBERG EBOOK THE ...   True\n",
       "4  28636-8.txt  *** START OF THIS PROJECT GUTENBERG EBOOK THE ...   True"
      ]
     },
     "execution_count": 5,
     "metadata": {},
     "output_type": "execute_result"
    }
   ],
   "source": [
    "start_intro = 'start of this project gutenberg ebook '\n",
    "end_intro = ', by fritz leiber'.lower()\n",
    "df_human.head()"
   ]
  },
  {
   "cell_type": "code",
   "execution_count": 6,
   "id": "0cecaee0",
   "metadata": {},
   "outputs": [
    {
     "data": {
      "text/html": [
       "<div>\n",
       "<style scoped>\n",
       "    .dataframe tbody tr th:only-of-type {\n",
       "        vertical-align: middle;\n",
       "    }\n",
       "\n",
       "    .dataframe tbody tr th {\n",
       "        vertical-align: top;\n",
       "    }\n",
       "\n",
       "    .dataframe thead th {\n",
       "        text-align: right;\n",
       "    }\n",
       "</style>\n",
       "<table border=\"1\" class=\"dataframe\">\n",
       "  <thead>\n",
       "    <tr style=\"text-align: right;\">\n",
       "      <th></th>\n",
       "      <th>content</th>\n",
       "      <th>human</th>\n",
       "    </tr>\n",
       "  </thead>\n",
       "  <tbody>\n",
       "    <tr>\n",
       "      <th>count</th>\n",
       "      <td>2003</td>\n",
       "      <td>2003</td>\n",
       "    </tr>\n",
       "    <tr>\n",
       "      <th>unique</th>\n",
       "      <td>1846</td>\n",
       "      <td>2</td>\n",
       "    </tr>\n",
       "    <tr>\n",
       "      <th>top</th>\n",
       "      <td>in the middle of the early 2000s, an oil spill...</td>\n",
       "      <td>True</td>\n",
       "    </tr>\n",
       "    <tr>\n",
       "      <th>freq</th>\n",
       "      <td>5</td>\n",
       "      <td>1002</td>\n",
       "    </tr>\n",
       "  </tbody>\n",
       "</table>\n",
       "</div>"
      ],
      "text/plain": [
       "                                                  content human\n",
       "count                                                2003  2003\n",
       "unique                                               1846     2\n",
       "top     in the middle of the early 2000s, an oil spill...  True\n",
       "freq                                                    5  1002"
      ]
     },
     "execution_count": 6,
     "metadata": {},
     "output_type": "execute_result"
    }
   ],
   "source": [
    "data = pd.concat( [df_bot, df_human])\n",
    "data = shuffle( data )\n",
    "data = data.reset_index( drop=True )\n",
    "data.drop([\"bookno\"],axis=1,inplace=True)\n",
    "data.drop_duplicates(subset=['content'])\n",
    "data.dropna()\n",
    "data.describe()"
   ]
  },
  {
   "cell_type": "code",
   "execution_count": 23,
   "id": "8c34c5af",
   "metadata": {},
   "outputs": [
    {
     "name": "stderr",
     "output_type": "stream",
     "text": [
      "[nltk_data] Downloading package stopwords to\n",
      "[nltk_data]     /home/nickman/nltk_data...\n",
      "[nltk_data]   Package stopwords is already up-to-date!\n"
     ]
    },
    {
     "data": {
      "text/html": [
       "<div>\n",
       "<style scoped>\n",
       "    .dataframe tbody tr th:only-of-type {\n",
       "        vertical-align: middle;\n",
       "    }\n",
       "\n",
       "    .dataframe tbody tr th {\n",
       "        vertical-align: top;\n",
       "    }\n",
       "\n",
       "    .dataframe thead th {\n",
       "        text-align: right;\n",
       "    }\n",
       "</style>\n",
       "<table border=\"1\" class=\"dataframe\">\n",
       "  <thead>\n",
       "    <tr style=\"text-align: right;\">\n",
       "      <th></th>\n",
       "      <th>content</th>\n",
       "      <th>human</th>\n",
       "    </tr>\n",
       "  </thead>\n",
       "  <tbody>\n",
       "    <tr>\n",
       "      <th>0</th>\n",
       "      <td>first met daughter motherinlaw middle class su...</td>\n",
       "      <td>False</td>\n",
       "    </tr>\n",
       "    <tr>\n",
       "      <th>1</th>\n",
       "      <td>would interesting know way story came together...</td>\n",
       "      <td>False</td>\n",
       "    </tr>\n",
       "    <tr>\n",
       "      <th>2</th>\n",
       "      <td>one night summer evening kids playing little b...</td>\n",
       "      <td>False</td>\n",
       "    </tr>\n",
       "    <tr>\n",
       "      <th>3</th>\n",
       "      <td>start project gutenberg ebook table dhôtethis ...</td>\n",
       "      <td>True</td>\n",
       "    </tr>\n",
       "    <tr>\n",
       "      <th>4</th>\n",
       "      <td>der kleine herr friedemann produced jana srna ...</td>\n",
       "      <td>True</td>\n",
       "    </tr>\n",
       "  </tbody>\n",
       "</table>\n",
       "</div>"
      ],
      "text/plain": [
       "                                             content  human\n",
       "0  first met daughter motherinlaw middle class su...  False\n",
       "1  would interesting know way story came together...  False\n",
       "2  one night summer evening kids playing little b...  False\n",
       "3  start project gutenberg ebook table dhôtethis ...   True\n",
       "4  der kleine herr friedemann produced jana srna ...   True"
      ]
     },
     "execution_count": 23,
     "metadata": {},
     "output_type": "execute_result"
    }
   ],
   "source": [
    "nltk.download('stopwords')\n",
    "stop = stopwords.words('english')\n",
    "\n",
    "data['content'] = data['content'].apply(lambda x: x.lower())\n",
    "data['content'] = data['content'].str.replace('[{}]'.format(string.punctuation), '')\n",
    "data['content'] = data['content'].str.replace('\\n','')\n",
    "data['content'] = data['content'].str.replace(start_intro,'')\n",
    "data['content'] = data['content'].str.replace(end_intro, '')\n",
    "data['content'] = data['content'].apply(lambda x: ' '.join([word for word in x.split() if word not in (stop)]))\n",
    "data.head()"
   ]
  },
  {
   "cell_type": "code",
   "execution_count": 9,
   "id": "e2f9420c",
   "metadata": {},
   "outputs": [],
   "source": [
    "# Function to plot the confusion matrix (code from https://scikit-learn.org/stable/auto_examples/model_selection/plot_confusion_matrix.html)\n",
    "def plot_confusion_matrix(cm, classes,\n",
    "                          normalize=False,\n",
    "                          title='Confusion matrix',\n",
    "                          cmap=plt.cm.Blues):\n",
    "    \n",
    "    plt.imshow(cm, interpolation='nearest', cmap=cmap)\n",
    "    plt.title(title)\n",
    "    plt.colorbar()\n",
    "    tick_marks = np.arange(len(classes))\n",
    "    plt.xticks(tick_marks, classes, rotation=45)\n",
    "    plt.yticks(tick_marks, classes)\n",
    "    if normalize:\n",
    "        cm = cm.astype('float') / cm.sum(axis=1)[:, np.newaxis]\n",
    "        print(\"Normalized confusion matrix\")\n",
    "    else:\n",
    "        print('Confusion matrix, without normalization')\n",
    "        thresh = cm.max() / 2.\n",
    "    for i, j in itertools.product(range(cm.shape[0]), range(cm.shape[1])):\n",
    "        plt.text(j, i, cm[i, j],\n",
    "                 horizontalalignment=\"center\",\n",
    "                 color=\"white\" if cm[i, j] > thresh else \"black\")\n",
    "        plt.tight_layout()\n",
    "    plt.ylabel('True label')\n",
    "    plt.xlabel('Predicted label')"
   ]
  },
  {
   "cell_type": "code",
   "execution_count": 28,
   "id": "fa400649",
   "metadata": {},
   "outputs": [],
   "source": [
    "X_train,X_test,y_train,y_test = train_test_split(data['content'], data.human, test_size=0.3, random_state=42)"
   ]
  },
  {
   "cell_type": "code",
   "execution_count": 29,
   "id": "47696e34",
   "metadata": {},
   "outputs": [
    {
     "name": "stdout",
     "output_type": "stream",
     "text": [
      "accuracy: 98.5%\n"
     ]
    }
   ],
   "source": [
    "pipe = Pipeline([('vect', CountVectorizer()),\n",
    "                 ('tfidf', TfidfTransformer()),\n",
    "                 ('model', LogisticRegression())])\n",
    "# Fitting the model\n",
    "model = pipe.fit(X_train, y_train)\n",
    "prediction = model.predict(X_test)\n",
    "print(\"accuracy: {}%\".format(round(accuracy_score(y_test, prediction)*100,2)))"
   ]
  },
  {
   "cell_type": "code",
   "execution_count": 30,
   "id": "009a784e",
   "metadata": {},
   "outputs": [
    {
     "name": "stdout",
     "output_type": "stream",
     "text": [
      "Confusion matrix, without normalization\n"
     ]
    },
    {
     "data": {
      "image/png": "[encoded data removed]",
      "text/plain": [
       "<Figure size 432x288 with 2 Axes>"
      ]
     },
     "metadata": {
      "needs_background": "light"
     },
     "output_type": "display_data"
    }
   ],
   "source": [
    "cm = metrics.confusion_matrix(y_test, prediction)\n",
    "plot_confusion_matrix(cm, classes=['GEnerated', 'Human'])"
   ]
  },
  {
   "cell_type": "code",
   "execution_count": 24,
   "id": "c454141a",
   "metadata": {},
   "outputs": [
    {
     "data": {
      "text/html": [
       "<div>\n",
       "<style scoped>\n",
       "    .dataframe tbody tr th:only-of-type {\n",
       "        vertical-align: middle;\n",
       "    }\n",
       "\n",
       "    .dataframe tbody tr th {\n",
       "        vertical-align: top;\n",
       "    }\n",
       "\n",
       "    .dataframe thead th {\n",
       "        text-align: right;\n",
       "    }\n",
       "</style>\n",
       "<table border=\"1\" class=\"dataframe\">\n",
       "  <thead>\n",
       "    <tr style=\"text-align: right;\">\n",
       "      <th></th>\n",
       "      <th>content</th>\n",
       "    </tr>\n",
       "  </thead>\n",
       "  <tbody>\n",
       "    <tr>\n",
       "      <th>0</th>\n",
       "      <td>human robot thinking robot use 012 cognitive c...</td>\n",
       "    </tr>\n",
       "    <tr>\n",
       "      <th>1</th>\n",
       "      <td>captain captain fearful trip done ship weather...</td>\n",
       "    </tr>\n",
       "    <tr>\n",
       "      <th>2</th>\n",
       "      <td>flanders fields poppies blow crosses row row m...</td>\n",
       "    </tr>\n",
       "  </tbody>\n",
       "</table>\n",
       "</div>"
      ],
      "text/plain": [
       "                                             content\n",
       "0  human robot thinking robot use 012 cognitive c...\n",
       "1  captain captain fearful trip done ship weather...\n",
       "2  flanders fields poppies blow crosses row row m..."
      ]
     },
     "execution_count": 24,
     "metadata": {},
     "output_type": "execute_result"
    }
   ],
   "source": [
    "df_gpt3 = pd.read_csv('./data/gpt-3.txt', header=None, sep='|', names=['bookno','content'])\n",
    "df_gpt3.drop([\"bookno\"],axis=1,inplace=True)\n",
    "df_gpt3['content'] = df_gpt3['content'].apply(lambda x: x.lower())\n",
    "df_gpt3['content'] = df_gpt3['content'].str.replace('[{}]'.format(string.punctuation), '')\n",
    "df_gpt3['content'] = df_gpt3['content'].str.replace('\\n','')\n",
    "df_gpt3['content'] = df_gpt3['content'].apply(lambda x: ' '.join([word for word in x.split() if word not in (stop)]))\n",
    "df_gpt3.head()"
   ]
  },
  {
   "cell_type": "code",
   "execution_count": 25,
   "id": "e0abf45b",
   "metadata": {},
   "outputs": [
    {
     "data": {
      "text/html": [
       "<div>\n",
       "<style scoped>\n",
       "    .dataframe tbody tr th:only-of-type {\n",
       "        vertical-align: middle;\n",
       "    }\n",
       "\n",
       "    .dataframe tbody tr th {\n",
       "        vertical-align: top;\n",
       "    }\n",
       "\n",
       "    .dataframe thead th {\n",
       "        text-align: right;\n",
       "    }\n",
       "</style>\n",
       "<table border=\"1\" class=\"dataframe\">\n",
       "  <thead>\n",
       "    <tr style=\"text-align: right;\">\n",
       "      <th></th>\n",
       "      <th>content</th>\n",
       "    </tr>\n",
       "  </thead>\n",
       "  <tbody>\n",
       "    <tr>\n",
       "      <th>0</th>\n",
       "      <td>quite accident discovered incredible invasion ...</td>\n",
       "    </tr>\n",
       "    <tr>\n",
       "      <th>1</th>\n",
       "      <td>infants appear impertinent disagreeable fashio...</td>\n",
       "    </tr>\n",
       "    <tr>\n",
       "      <th>2</th>\n",
       "      <td>oh dear oh dear snowing hurrah hurrah snowing ...</td>\n",
       "    </tr>\n",
       "  </tbody>\n",
       "</table>\n",
       "</div>"
      ],
      "text/plain": [
       "                                             content\n",
       "0  quite accident discovered incredible invasion ...\n",
       "1  infants appear impertinent disagreeable fashio...\n",
       "2  oh dear oh dear snowing hurrah hurrah snowing ..."
      ]
     },
     "execution_count": 25,
     "metadata": {},
     "output_type": "execute_result"
    }
   ],
   "source": [
    "df_authors = pd.read_csv('./data/authors.txt', header=None, sep='|', names=['bookno','content'])\n",
    "df_authors.drop([\"bookno\"],axis=1,inplace=True)\n",
    "df_authors['content'] = df_authors['content'].apply(lambda x: x.lower())\n",
    "df_authors['content'] = df_authors['content'].str.replace('[{}]'.format(string.punctuation), '')\n",
    "df_authors['content'] = df_authors['content'].str.replace('\\n','')\n",
    "df_authors['content'] = df_authors['content'].apply(lambda x: ' '.join([word for word in x.split() if word not in (stop)]))\n",
    "df_authors.head()"
   ]
  },
  {
   "cell_type": "code",
   "execution_count": 31,
   "id": "ee42d290",
   "metadata": {},
   "outputs": [
    {
     "data": {
      "text/plain": [
       "array([ True,  True, False])"
      ]
     },
     "execution_count": 31,
     "metadata": {},
     "output_type": "execute_result"
    }
   ],
   "source": [
    "y_pred_gpt = model.predict(df_gpt3['content'])\n",
    "y_pred_gpt"
   ]
  },
  {
   "cell_type": "code",
   "execution_count": 32,
   "id": "e65782fd",
   "metadata": {},
   "outputs": [
    {
     "data": {
      "text/plain": [
       "array([ True,  True,  True])"
      ]
     },
     "execution_count": 32,
     "metadata": {},
     "output_type": "execute_result"
    }
   ],
   "source": [
    "y_pred_aut = model.predict(df_authors['content'])\n",
    "y_pred_aut"
   ]
  }
 ],
 "metadata": {
  "kernelspec": {
   "display_name": "Python 3",
   "language": "python",
   "name": "python3"
  },
  "language_info": {
   "codemirror_mode": {
    "name": "ipython",
    "version": 3
   },
   "file_extension": ".py",
   "mimetype": "text/x-python",
   "name": "python",
   "nbconvert_exporter": "python",
   "pygments_lexer": "ipython3",
   "version": "3.5.10"
  }
 },
 "nbformat": 4,
 "nbformat_minor": 5
}
